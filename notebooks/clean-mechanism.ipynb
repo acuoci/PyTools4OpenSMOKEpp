{
 "cells": [
  {
   "cell_type": "markdown",
   "id": "1d58c7b6",
   "metadata": {},
   "source": [
    "# Utility to clean the transport and thermodynamic properties of a kinetic mechanism"
   ]
  },
  {
   "cell_type": "markdown",
   "id": "edac6622",
   "metadata": {},
   "source": [
    "The aim of this utility is to write a transport and thermodynamic CHEMKIN file including only the species which are part of the kinetic mechanism, i.e. removing all the specis which are not relevant.\n",
    "The user has to provide the path to the original transport and thermodynamic CHEMKIN file (which are assumed to be properly written) and an additional ASCII file containing the list of all the species included in the final kinetic mechanism. The utility will automatically produce new \"clean\" transport and thermodynamic CHEMKIN files. The user can also specify some header lines to be added on the top of the files, for example reporting the details of the paper to which the mechanism is attached.\n",
    "In case of error message about the decodification of input files, we suggest to change the econding parameter from 'latin-1' to 'utf-8'"
   ]
  },
  {
   "cell_type": "code",
   "execution_count": 1,
   "id": "9258ab1d",
   "metadata": {},
   "outputs": [],
   "source": [
    "# Input data\n",
    "encoding_format = 'latin-1'\n",
    "list_of_species_file_name = 'listofspecies'\n",
    "transport_file_name = 'CRECK_2003_C1_C3_HT_NOX.TRC'\n",
    "thermo_file_name = 'CRECK_2003_C1_C3_HT_NOX.CKT'\n",
    "header_lines = \\\n",
    "'! ------------------------------------------------------------------------------- ! \\n' + \\\n",
    "'!                                CRECK Modeling Lab                               ! \\n' + \\\n",
    "'!                       http://creckmodeling.chem.polimi.it                       ! \\n' + \\\n",
    "'!                                                                                 ! \\n' + \\\n",
    "'!                     Detailed Kinetic Mechanism for n-heptane                    ! \\n' + \\\n",
    "'!                                                                                 ! \\n' + \\\n",
    "'! Pelucchi M., Faravelli T., Frassoldati A., Article title, Journal, Year         ! \\n' + \\\n",
    "'! DOI: https://doi.org/XX.YYYY/xxx.yyy                                            ! \\n' + \\\n",
    "'! ------------------------------------------------------------------------------- ! \\n' "
   ]
  },
  {
   "cell_type": "markdown",
   "id": "8763e434",
   "metadata": {},
   "source": [
    "Reading the list of species"
   ]
  },
  {
   "cell_type": "code",
   "execution_count": 2,
   "id": "545c48cd",
   "metadata": {},
   "outputs": [],
   "source": [
    "# Read list of species\n",
    "listofspecies_file = open(list_of_species_file_name, 'r', encoding=encoding_format)\n",
    "listofspecies = (listofspecies_file.read()).split()\n",
    "ns = len(listofspecies)"
   ]
  },
  {
   "cell_type": "markdown",
   "id": "2872c761",
   "metadata": {},
   "source": [
    "Cleaning the transport file"
   ]
  },
  {
   "cell_type": "code",
   "execution_count": 3,
   "id": "a7ff61a8",
   "metadata": {},
   "outputs": [],
   "source": [
    "tran_file = open(transport_file_name, 'r', encoding=encoding_format)\n",
    "tran_data = tran_file.readlines()\n",
    "tran_lines = len(tran_data)\n",
    "\n",
    "data = []\n",
    "found = [False]*ns\n",
    "for i in range(ns):\n",
    "    species = listofspecies[i]\n",
    "    for j in range(tran_lines):\n",
    "        if (found[i] == False):\n",
    "            words = tran_data[j].split()\n",
    "            if (len(words) != 0):\n",
    "                if (words[0] == species):\n",
    "                    found[i] = True\n",
    "                    single_data = { 'name': species, 'coeffs': words[1:7] }\n",
    "                    data.append(single_data)\n",
    "                    \n",
    "additional_comments = \\\n",
    "'! Molecular parameter for each species' + '\\n' \\\n",
    "'! 1. An  index  indicating  whether the molecule has a monatomic, linear' + '\\n' \\\n",
    "'!    or nonlinear geometrical configuration. If the index is 0, the' + '\\n' \\\n",
    "'!    molecule is a single atom. If the index is 1 the molecule is linear,' + '\\n' \\\n",
    "'!    and if it is 2, the molecule is nonlinear.' + '\\n' \\\n",
    "'! 2. The Lennard-Jones potential well depth eps/kB  in Kelvins' + '\\n' \\\n",
    "'! 3. The Lennard-Jones collision diameter sigma in Angstroms ' + '\\n' \\\n",
    "'! 4. The dipole moment mu in Debye. Note: a Debye is 1e-18 cm3/2 erg1/2 ' + '\\n' \\\n",
    "'! 5. The polarizability alpha in cubic Angstroms.' + '\\n' \\\n",
    "'! 6. The rotational relaxation collision number Zrot at 298K.' + '\\n' \n",
    "\n",
    "f = open(transport_file_name+'.clean', 'w')\n",
    "f.write(header_lines + '\\n')\n",
    "f.write(additional_comments + '\\n')\n",
    "f.write('%-30s %-12s %-12s %-12s %-12s %-12s %-12s\\n' % ('!', 'config.', 'eps/kb(K)', 'sigma(A)', \\\n",
    "                                                         'moment(Db)', 'polar.(A^3)', 'Zrot@298K' ) )\n",
    "for i in range(ns):\n",
    "    f.write('%-30s %-12s %-12s %-12s %-12s %-12s %-12s\\n' % (data[i]['name'], data[i]['coeffs'][0], \\\n",
    "                                                             data[i]['coeffs'][1],data[i]['coeffs'][2], \\\n",
    "                                                             data[i]['coeffs'][3],data[i]['coeffs'][4],\\\n",
    "                                                             data[i]['coeffs'][5]) )\n",
    "\n",
    "f.close()"
   ]
  },
  {
   "cell_type": "markdown",
   "id": "6e4385e9",
   "metadata": {},
   "source": [
    "Cleaning the thermodynamic file"
   ]
  },
  {
   "cell_type": "code",
   "execution_count": 4,
   "id": "347c7b19",
   "metadata": {},
   "outputs": [],
   "source": [
    "thermo_file = open(thermo_file_name, 'r', encoding=encoding_format)\n",
    "thermo_data = thermo_file.readlines()\n",
    "thermo_lines = len(thermo_data)\n",
    "\n",
    "data = []\n",
    "found = [False]*ns\n",
    "for i in range(ns):\n",
    "    species = listofspecies[i]\n",
    "    for j in range(thermo_lines):\n",
    "        if (found[i] == False):\n",
    "            words = thermo_data[j].split()\n",
    "            if (len(words) != 0):\n",
    "                if (words[0] == species):\n",
    "                    found[i] = True\n",
    "                    if (thermo_data[j][80] == '&'):\n",
    "                        nlines = 5;\n",
    "                        first_line = thermo_data[j][0:81]\n",
    "                        second_line = thermo_data[j+1].strip()\n",
    "                        last_line = thermo_data[j+4][0:80]\n",
    "                    else:\n",
    "                        nlines = 4\n",
    "                        first_line = thermo_data[j][0:80]\n",
    "                        second_line = thermo_data[j+1][0:80]\n",
    "                        last_line = ''\n",
    "                    \n",
    "                    single_data = { 'name': species, 'nlines': nlines, \\\n",
    "                                    'line1': first_line+'\\n', \\\n",
    "                                    'line2': second_line+'\\n', \\\n",
    "                                    'line3': thermo_data[j+2][0:80]+'\\n', \\\n",
    "                                    'line4': thermo_data[j+3][0:80]+'\\n', \\\n",
    "                                    'line5': last_line+'\\n' }\n",
    "                    \n",
    "                    data.append(single_data)\n",
    "\n",
    "f = open(thermo_file_name + '.clean', 'w')\n",
    "f.write(header_lines + '\\n')\n",
    "f.write('THERMO ALL' + '\\n')\n",
    "f.write('270.   1000.   3500. ' + '\\n')\n",
    "\n",
    "for i in range(ns):\n",
    "    f.write(data[i]['line1'])\n",
    "    f.write(data[i]['line2'])\n",
    "    f.write(data[i]['line3'])\n",
    "    f.write(data[i]['line4'])\n",
    "    if (data[i]['nlines'] == 5):\n",
    "        f.write(data[i]['line5'])\n",
    "        \n",
    "f.write('END' + '\\n')\n",
    "f.write('\\n')\n",
    "f.close()"
   ]
  },
  {
   "cell_type": "code",
   "execution_count": null,
   "id": "96f6262b",
   "metadata": {},
   "outputs": [],
   "source": []
  }
 ],
 "metadata": {
  "kernelspec": {
   "display_name": "Python 3",
   "language": "python",
   "name": "python3"
  },
  "language_info": {
   "codemirror_mode": {
    "name": "ipython",
    "version": 3
   },
   "file_extension": ".py",
   "mimetype": "text/x-python",
   "name": "python",
   "nbconvert_exporter": "python",
   "pygments_lexer": "ipython3",
   "version": "3.8.8"
  }
 },
 "nbformat": 4,
 "nbformat_minor": 5
}
